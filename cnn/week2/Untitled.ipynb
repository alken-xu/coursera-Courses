{
 "cells": [
  {
   "cell_type": "code",
   "execution_count": 1,
   "metadata": {},
   "outputs": [
    {
     "name": "stdout",
     "output_type": "stream",
     "text": [
      "KerasTutorial/\n",
      "KerasTutorial/Keras - Tutorial - Happy House v2.ipynb\n",
      "KerasTutorial/.ipynb_checkpoints/\n",
      "KerasTutorial/.ipynb_checkpoints/Keras - Tutorial - Happy House v1-checkpoint.ipynb\n",
      "KerasTutorial/.ipynb_checkpoints/Keras - Tutorial - Happy House v2-checkpoint.ipynb\n",
      "KerasTutorial/images/\n",
      "KerasTutorial/images/happy-house.jpg\n",
      "KerasTutorial/images/my_image.jpg\n",
      "KerasTutorial/images/house-members.png\n",
      "KerasTutorial/kt_utils.py\n",
      "KerasTutorial/Keras - Tutorial - Happy House v1.ipynb\n",
      "KerasTutorial/datasets/\n",
      "KerasTutorial/datasets/test_happy.h5\n",
      "KerasTutorial/datasets/train_happy.h5\n",
      "KerasTutorial/__pycache__/\n",
      "KerasTutorial/__pycache__/kt_utils.cpython-36.pyc\n",
      "ResNets/\n",
      "ResNets/Residual Networks - v1.ipynb\n",
      "ResNets/.ipynb_checkpoints/\n",
      "ResNets/.ipynb_checkpoints/Residual Networks - v2-checkpoint.ipynb\n",
      "ResNets/.ipynb_checkpoints/Residual Networks - v1-checkpoint.ipynb\n",
      "ResNets/images/\n",
      "ResNets/images/vanishing_grad_kiank.png\n",
      "ResNets/images/idblock2_kiank.png\n",
      "ResNets/images/skip_connection_kiank.png\n",
      "ResNets/images/convblock_kiank.png\n",
      "ResNets/images/resnet_kiank.png\n",
      "ResNets/images/signs_data_kiank.png\n",
      "ResNets/images/idblock3_kiank.png\n",
      "ResNets/images/my_image.jpg\n",
      "ResNets/ResNet50.h5\n",
      "ResNets/datasets/\n",
      "ResNets/datasets/train_signs.h5\n",
      "ResNets/datasets/test_signs.h5\n",
      "ResNets/__pycache__/\n",
      "ResNets/__pycache__/resnets_utils.cpython-36.pyc\n",
      "ResNets/resnets_utils.py\n",
      "ResNets/Residual Networks - v2.ipynb\n",
      "Untitled.ipynb\n",
      "__pycache__/\n",
      "__pycache__/nst_utils.cpython-36.pyc\n"
     ]
    }
   ],
   "source": [
    "!tar chvzf notebook.tar.gz --exclude notebook.tar.gz *"
   ]
  },
  {
   "cell_type": "code",
   "execution_count": 6,
   "metadata": {},
   "outputs": [
    {
     "name": "stdout",
     "output_type": "stream",
     "text": [
      "76\t./ResNets/.ipynb_checkpoints\n",
      "36\t./ResNets/images\n",
      "12\t./ResNets/datasets\n",
      "8\t./ResNets/__pycache__\n",
      "224\t./ResNets\n",
      "44\t./KerasTutorial/.ipynb_checkpoints\n",
      "16\t./KerasTutorial/images\n",
      "12\t./KerasTutorial/datasets\n",
      "8\t./KerasTutorial/__pycache__\n",
      "132\t./KerasTutorial\n",
      "8\t./.ipynb_checkpoints\n",
      "12\t./__pycache__\n",
      "278956\t./\n",
      "278956\ttotal\n"
     ]
    }
   ],
   "source": [
    "!du -c ./"
   ]
  },
  {
   "cell_type": "code",
   "execution_count": 14,
   "metadata": {},
   "outputs": [
    {
     "name": "stdout",
     "output_type": "stream",
     "text": [
      "total 20\n",
      "drwxrwxrwx 2 root   root  6144 Apr  7 09:46 __pycache__\n",
      "drwxrwxrwx 6 root   root  6144 Apr 10 13:35 ResNets\n",
      "drwxrwxrwx 6 root   root  6144 Apr 10 13:36 KerasTutorial\n",
      "-rw-r--r-- 1 jovyan users 5292 Apr 18 12:51 Untitled.ipynb\n"
     ]
    }
   ],
   "source": [
    "!ls -trl ./"
   ]
  },
  {
   "cell_type": "code",
   "execution_count": 9,
   "metadata": {},
   "outputs": [
    {
     "name": "stdout",
     "output_type": "stream",
     "text": [
      "76K\t./ResNets/.ipynb_checkpoints\n",
      "36K\t./ResNets/images\n",
      "12K\t./ResNets/datasets\n",
      "8.0K\t./ResNets/__pycache__\n",
      "224K\t./ResNets\n",
      "44K\t./KerasTutorial/.ipynb_checkpoints\n",
      "16K\t./KerasTutorial/images\n",
      "12K\t./KerasTutorial/datasets\n",
      "8.0K\t./KerasTutorial/__pycache__\n",
      "132K\t./KerasTutorial\n",
      "8.0K\t./.ipynb_checkpoints\n",
      "12K\t./__pycache__\n",
      "388K\t.\n"
     ]
    }
   ],
   "source": [
    "!du -h"
   ]
  },
  {
   "cell_type": "code",
   "execution_count": 12,
   "metadata": {},
   "outputs": [
    {
     "name": "stdout",
     "output_type": "stream",
     "text": [
      "./\n",
      "./ResNets/\n",
      "./ResNets/Residual Networks - v1.ipynb\n",
      "./ResNets/.ipynb_checkpoints/\n",
      "./ResNets/.ipynb_checkpoints/Residual Networks - v2-checkpoint.ipynb\n",
      "./ResNets/.ipynb_checkpoints/Residual Networks - v1-checkpoint.ipynb\n",
      "./ResNets/images/\n",
      "./ResNets/images/vanishing_grad_kiank.png\n",
      "./ResNets/images/idblock2_kiank.png\n",
      "./ResNets/images/skip_connection_kiank.png\n",
      "./ResNets/images/convblock_kiank.png\n",
      "./ResNets/images/resnet_kiank.png\n",
      "./ResNets/images/signs_data_kiank.png\n",
      "./ResNets/images/idblock3_kiank.png\n",
      "./ResNets/images/my_image.jpg\n",
      "./ResNets/ResNet50.h5\n",
      "./ResNets/datasets/\n",
      "./ResNets/datasets/train_signs.h5\n",
      "./ResNets/datasets/test_signs.h5\n",
      "./ResNets/__pycache__/\n",
      "./ResNets/__pycache__/resnets_utils.cpython-36.pyc\n",
      "./ResNets/resnets_utils.py\n",
      "./ResNets/Residual Networks - v2.ipynb\n",
      "./KerasTutorial/\n",
      "./KerasTutorial/Keras - Tutorial - Happy House v2.ipynb\n",
      "./KerasTutorial/.ipynb_checkpoints/\n",
      "./KerasTutorial/.ipynb_checkpoints/Keras - Tutorial - Happy House v1-checkpoint.ipynb\n",
      "./KerasTutorial/.ipynb_checkpoints/Keras - Tutorial - Happy House v2-checkpoint.ipynb\n",
      "./KerasTutorial/images/\n",
      "./KerasTutorial/images/happy-house.jpg\n",
      "./KerasTutorial/images/my_image.jpg\n",
      "./KerasTutorial/images/house-members.png\n",
      "./KerasTutorial/kt_utils.py\n",
      "./KerasTutorial/Keras - Tutorial - Happy House v1.ipynb\n",
      "./KerasTutorial/datasets/\n",
      "./KerasTutorial/datasets/test_happy.h5\n",
      "./KerasTutorial/datasets/train_happy.h5\n",
      "./KerasTutorial/__pycache__/\n",
      "./KerasTutorial/__pycache__/kt_utils.cpython-36.pyc\n",
      "./.ipynb_checkpoints/\n",
      "./.ipynb_checkpoints/Untitled-checkpoint.ipynb\n",
      "./Untitled.ipynb\n",
      "./__pycache__/\n",
      "./__pycache__/nst_utils.cpython-36.pyc\n"
     ]
    }
   ],
   "source": [
    "!tar -chvzf ./workspace.tar.gz ./"
   ]
  },
  {
   "cell_type": "code",
   "execution_count": 19,
   "metadata": {},
   "outputs": [
    {
     "name": "stdout",
     "output_type": "stream",
     "text": [
      "76\t./ResNets/.ipynb_checkpoints\r\n",
      "36\t./ResNets/images\r\n",
      "12\t./ResNets/datasets\r\n",
      "8\t./ResNets/__pycache__\r\n",
      "224\t./ResNets\r\n",
      "44\t./KerasTutorial/.ipynb_checkpoints\r\n",
      "16\t./KerasTutorial/images\r\n",
      "12\t./KerasTutorial/datasets\r\n",
      "8\t./KerasTutorial/__pycache__\r\n",
      "132\t./KerasTutorial\r\n",
      "8\t./.ipynb_checkpoints\r\n",
      "12\t./__pycache__\r\n",
      "388\t./\r\n"
     ]
    }
   ],
   "source": [
    "!du -d2 -x ./"
   ]
  },
  {
   "cell_type": "code",
   "execution_count": 21,
   "metadata": {},
   "outputs": [
    {
     "name": "stdout",
     "output_type": "stream",
     "text": [
      "-rw-r--r-- 1 root root 50220 Oct 17  2017 /home/jovyan/work-ro/week2/ResNets/images/resnet_kiank.png\r\n"
     ]
    }
   ],
   "source": [
    "ls -ltr /home/jovyan/work-ro/week2/ResNets/images/resnet_kiank.png"
   ]
  },
  {
   "cell_type": "code",
   "execution_count": null,
   "metadata": {
    "collapsed": true
   },
   "outputs": [],
   "source": []
  }
 ],
 "metadata": {
  "kernelspec": {
   "display_name": "Python 3",
   "language": "python",
   "name": "python3"
  },
  "language_info": {
   "codemirror_mode": {
    "name": "ipython",
    "version": 3
   },
   "file_extension": ".py",
   "mimetype": "text/x-python",
   "name": "python",
   "nbconvert_exporter": "python",
   "pygments_lexer": "ipython3",
   "version": "3.6.0"
  }
 },
 "nbformat": 4,
 "nbformat_minor": 2
}
